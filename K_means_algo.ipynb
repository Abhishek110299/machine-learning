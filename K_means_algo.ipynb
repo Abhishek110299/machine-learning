{
  "nbformat": 4,
  "nbformat_minor": 0,
  "metadata": {
    "colab": {
      "name": "K-means class 12.ipynb",
      "provenance": [],
      "authorship_tag": "ABX9TyMG/uIaLkyN/dSe/oOXNZCF",
      "include_colab_link": true
    },
    "kernelspec": {
      "name": "python3",
      "display_name": "Python 3"
    },
    "language_info": {
      "name": "python"
    }
  },
  "cells": [
    {
      "cell_type": "markdown",
      "metadata": {
        "id": "view-in-github",
        "colab_type": "text"
      },
      "source": [
        "<a href=\"https://colab.research.google.com/github/Aishaabhi/Hello-world/blob/main/K_means_algo.ipynb\" target=\"_parent\"><img src=\"https://colab.research.google.com/assets/colab-badge.svg\" alt=\"Open In Colab\"/></a>"
      ]
    },
    {
      "cell_type": "code",
      "metadata": {
        "id": "cuNQv1Gro4ag"
      },
      "source": [
        "import numpy as np\n",
        "import pandas as pd\n",
        "import sklearn \n",
        "import matplotlib.pyplot as plt\n"
      ],
      "execution_count": 1,
      "outputs": []
    },
    {
      "cell_type": "code",
      "metadata": {
        "id": "KzEqUN1PpJiA"
      },
      "source": [
        "df=pd.DataFrame({ 'x':[12,20,28,18,29,33,24,45,43,51,52,55,53,54,61,64,69,52,6,62,45,60,59,8], \n",
        "                 'x2':[39,36,30,52,54,46,55,59,63,70,66,63,58,14,8,19,7,24,77,65,80,4,72,45]})"
      ],
      "execution_count": 2,
      "outputs": []
    },
    {
      "cell_type": "code",
      "metadata": {
        "id": "NA5iDRNIp4UP"
      },
      "source": [
        "from sklearn.cluster import KMeans\n",
        "\n"
      ],
      "execution_count": 3,
      "outputs": []
    },
    {
      "cell_type": "code",
      "metadata": {
        "colab": {
          "base_uri": "https://localhost:8080/",
          "height": 204
        },
        "id": "92NR4r1sqLf4",
        "outputId": "6652342e-ae78-4ce3-9f17-9fc83a89d510"
      },
      "source": [
        "x=df\n",
        "x.head()"
      ],
      "execution_count": 4,
      "outputs": [
        {
          "output_type": "execute_result",
          "data": {
            "text/html": [
              "<div>\n",
              "<style scoped>\n",
              "    .dataframe tbody tr th:only-of-type {\n",
              "        vertical-align: middle;\n",
              "    }\n",
              "\n",
              "    .dataframe tbody tr th {\n",
              "        vertical-align: top;\n",
              "    }\n",
              "\n",
              "    .dataframe thead th {\n",
              "        text-align: right;\n",
              "    }\n",
              "</style>\n",
              "<table border=\"1\" class=\"dataframe\">\n",
              "  <thead>\n",
              "    <tr style=\"text-align: right;\">\n",
              "      <th></th>\n",
              "      <th>x</th>\n",
              "      <th>x2</th>\n",
              "    </tr>\n",
              "  </thead>\n",
              "  <tbody>\n",
              "    <tr>\n",
              "      <th>0</th>\n",
              "      <td>12</td>\n",
              "      <td>39</td>\n",
              "    </tr>\n",
              "    <tr>\n",
              "      <th>1</th>\n",
              "      <td>20</td>\n",
              "      <td>36</td>\n",
              "    </tr>\n",
              "    <tr>\n",
              "      <th>2</th>\n",
              "      <td>28</td>\n",
              "      <td>30</td>\n",
              "    </tr>\n",
              "    <tr>\n",
              "      <th>3</th>\n",
              "      <td>18</td>\n",
              "      <td>52</td>\n",
              "    </tr>\n",
              "    <tr>\n",
              "      <th>4</th>\n",
              "      <td>29</td>\n",
              "      <td>54</td>\n",
              "    </tr>\n",
              "  </tbody>\n",
              "</table>\n",
              "</div>"
            ],
            "text/plain": [
              "    x  x2\n",
              "0  12  39\n",
              "1  20  36\n",
              "2  28  30\n",
              "3  18  52\n",
              "4  29  54"
            ]
          },
          "metadata": {
            "tags": []
          },
          "execution_count": 4
        }
      ]
    },
    {
      "cell_type": "code",
      "metadata": {
        "id": "OZfbpKhYqWV3"
      },
      "source": [
        "km=KMeans(n_clusters=3)\n"
      ],
      "execution_count": 40,
      "outputs": []
    },
    {
      "cell_type": "code",
      "metadata": {
        "colab": {
          "base_uri": "https://localhost:8080/"
        },
        "id": "li423eMIqh7x",
        "outputId": "31164d2e-745e-483f-cae1-98ef1d8e247c"
      },
      "source": [
        "km.fit(x)"
      ],
      "execution_count": 41,
      "outputs": [
        {
          "output_type": "execute_result",
          "data": {
            "text/plain": [
              "KMeans(algorithm='auto', copy_x=True, init='k-means++', max_iter=300,\n",
              "       n_clusters=3, n_init=10, n_jobs=None, precompute_distances='auto',\n",
              "       random_state=None, tol=0.0001, verbose=0)"
            ]
          },
          "metadata": {
            "tags": []
          },
          "execution_count": 41
        }
      ]
    },
    {
      "cell_type": "code",
      "metadata": {
        "colab": {
          "base_uri": "https://localhost:8080/"
        },
        "id": "XGKvHcnSqn-N",
        "outputId": "e2bfa950-e98d-4ba1-c129-4f025e686425"
      },
      "source": [
        "km.cluster_centers_"
      ],
      "execution_count": 42,
      "outputs": [
        {
          "output_type": "execute_result",
          "data": {
            "text/plain": [
              "array([[60.        , 12.66666667,  2.        ],\n",
              "       [51.66666667, 66.22222222,  1.        ],\n",
              "       [19.77777778, 48.22222222,  0.        ]])"
            ]
          },
          "metadata": {
            "tags": []
          },
          "execution_count": 42
        }
      ]
    },
    {
      "cell_type": "code",
      "metadata": {
        "colab": {
          "base_uri": "https://localhost:8080/"
        },
        "id": "L2IZNP2kq_Hg",
        "outputId": "59b34c0d-d36f-44e5-8cf7-83ee472cbd00"
      },
      "source": [
        "km.labels_"
      ],
      "execution_count": 43,
      "outputs": [
        {
          "output_type": "execute_result",
          "data": {
            "text/plain": [
              "array([2, 2, 2, 2, 2, 2, 2, 1, 1, 1, 1, 1, 1, 0, 0, 0, 0, 0, 2, 1, 1, 0,\n",
              "       1, 2], dtype=int32)"
            ]
          },
          "metadata": {
            "tags": []
          },
          "execution_count": 43
        }
      ]
    },
    {
      "cell_type": "code",
      "metadata": {
        "id": "fttmzb12rYru"
      },
      "source": [
        "df['k-mean predicted labels']=km.labels_"
      ],
      "execution_count": 44,
      "outputs": []
    },
    {
      "cell_type": "code",
      "metadata": {
        "colab": {
          "base_uri": "https://localhost:8080/"
        },
        "id": "vInB6YoNr4uo",
        "outputId": "d528f1f3-59d0-4e6e-99be-d9dbcd53f65d"
      },
      "source": [
        "df.head"
      ],
      "execution_count": 45,
      "outputs": [
        {
          "output_type": "execute_result",
          "data": {
            "text/plain": [
              "<bound method NDFrame.head of      x  x2  k-mean predicted labels\n",
              "0   12  39                        2\n",
              "1   20  36                        2\n",
              "2   28  30                        2\n",
              "3   18  52                        2\n",
              "4   29  54                        2\n",
              "5   33  46                        2\n",
              "6   24  55                        2\n",
              "7   45  59                        1\n",
              "8   43  63                        1\n",
              "9   51  70                        1\n",
              "10  52  66                        1\n",
              "11  55  63                        1\n",
              "12  53  58                        1\n",
              "13  54  14                        0\n",
              "14  61   8                        0\n",
              "15  64  19                        0\n",
              "16  69   7                        0\n",
              "17  52  24                        0\n",
              "18   6  77                        2\n",
              "19  62  65                        1\n",
              "20  45  80                        1\n",
              "21  60   4                        0\n",
              "22  59  72                        1\n",
              "23   8  45                        2>"
            ]
          },
          "metadata": {
            "tags": []
          },
          "execution_count": 45
        }
      ]
    },
    {
      "cell_type": "code",
      "metadata": {
        "colab": {
          "base_uri": "https://localhost:8080/",
          "height": 265
        },
        "id": "ROcdxJAgsJ4M",
        "outputId": "61448a9d-6b8e-4605-9bc4-4fb205ad1d81"
      },
      "source": [
        "plt.scatter(df['x'],df['x2'],30)\n",
        "\n",
        "for i in km.cluster_centers_:\n",
        "  plt.scatter(i[0],i[1],100)\n",
        "\n",
        "plt.show()"
      ],
      "execution_count": 47,
      "outputs": [
        {
          "output_type": "display_data",
          "data": {
            "image/png": "[encoded data removed]",
            "text/plain": [
              "<Figure size 432x288 with 1 Axes>"
            ]
          },
          "metadata": {
            "tags": [],
            "needs_background": "light"
          }
        }
      ]
    },
    {
      "cell_type": "markdown",
      "metadata": {
        "id": "tB-5Exq6wkQO"
      },
      "source": [
        "# Elbow method for finding optimal clusters"
      ]
    },
    {
      "cell_type": "code",
      "metadata": {
        "colab": {
          "base_uri": "https://localhost:8080/"
        },
        "id": "tPHg68pdwidx",
        "outputId": "69c35913-2e47-4338-8c55-bce7dc003073"
      },
      "source": [
        "wss=[]\n",
        "cluster_range=range(1,10)\n",
        "for k in cluster_range:\n",
        "  km=KMeans(n_clusters=k)\n",
        "  km.fit(x)\n",
        "  inertia=km.inertia_\n",
        "  wss.append(inertia)\n",
        "\n",
        "print(wss)"
      ],
      "execution_count": 36,
      "outputs": [
        {
          "output_type": "stream",
          "text": [
            "[21090.416666666668, 9494.555555555557, 3456.0, 2310.763888888889, 1742.6388888888887, 1465.6388888888887, 1158.3055555555557, 894.7499999999999, 710.0833333333334]\n"
          ],
          "name": "stdout"
        }
      ]
    },
    {
      "cell_type": "code",
      "metadata": {
        "colab": {
          "base_uri": "https://localhost:8080/",
          "height": 265
        },
        "id": "JhhfRQHewsrJ",
        "outputId": "46ea9e80-0a09-49f4-b90f-b9b3d8ce5622"
      },
      "source": [
        "plt.plot(cluster_range,wss)\n",
        "plt.show()"
      ],
      "execution_count": 37,
      "outputs": [
        {
          "output_type": "display_data",
          "data": {
            "image/png": "[encoded data removed]",
            "text/plain": [
              "<Figure size 432x288 with 1 Axes>"
            ]
          },
          "metadata": {
            "tags": [],
            "needs_background": "light"
          }
        }
      ]
    }
  ]
}